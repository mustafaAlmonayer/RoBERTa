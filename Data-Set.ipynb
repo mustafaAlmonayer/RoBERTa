{
 "cells": [
  {
   "cell_type": "markdown",
   "id": "df72dc18-db2d-4e89-b5d0-a8e3a1b76624",
   "metadata": {},
   "source": [
    "# Date Extraction From Json File"
   ]
  },
  {
   "cell_type": "markdown",
   "id": "34b766e4-0a71-4b65-92cf-5436cff9d8be",
   "metadata": {
    "tags": []
   },
   "source": [
    "## Importing Needed Libs."
   ]
  },
  {
   "cell_type": "code",
   "execution_count": null,
   "id": "4dd754c6-c418-44c6-b1c6-dbb7348f7a77",
   "metadata": {
    "tags": []
   },
   "outputs": [],
   "source": [
    "import json\n",
    "import pandas as pd\n",
    "from pymongo import MongoClient as Client"
   ]
  },
  {
   "cell_type": "markdown",
   "id": "3f5257e2-b3bc-4ce7-a4bc-4711b900be6f",
   "metadata": {},
   "source": [
    "## Seting Up DB Connection."
   ]
  },
  {
   "cell_type": "code",
   "execution_count": null,
   "id": "58bb18f8-c422-464b-a217-5d309fd75d18",
   "metadata": {
    "tags": []
   },
   "outputs": [],
   "source": [
    "conn = Client(\"localhost\")\n",
    "db = conn.de_ds\n",
    "org_collection = db.original\n",
    "train_collection = db.train"
   ]
  },
  {
   "cell_type": "markdown",
   "id": "48bf2514-2a1f-4d34-941c-070526b78acc",
   "metadata": {},
   "source": [
    "## Extractin Records From Json File And Saving It In the DB."
   ]
  },
  {
   "cell_type": "code",
   "execution_count": null,
   "id": "4f94b297-cf5b-4c8e-9bf0-d6d0df9fc786",
   "metadata": {
    "tags": []
   },
   "outputs": [],
   "source": [
    "requesting = []\n",
    "\n",
    "with open(r\"yelp_academic_dataset_review.json\") as f:\n",
    "    for jsonObj in f:\n",
    "        myDict = json.loads(jsonObj)\n",
    "        requesting.append(org_ccollection.insert_one(myDict))\n",
    "\n",
    "org_ccollection.bulk_write(requesting)"
   ]
  },
  {
   "cell_type": "markdown",
   "id": "3b4e1063-0170-496c-98f9-769cfc2cba97",
   "metadata": {},
   "source": [
    "## Finding Reviews With 4 Or More Useful Votes And Putting It In A DataFrame."
   ]
  },
  {
   "cell_type": "code",
   "execution_count": null,
   "id": "c36a9949-1ed7-406d-92d3-5e33c7c80caf",
   "metadata": {
    "tags": []
   },
   "outputs": [],
   "source": [
    "result = collection.find({\"useful\" : {\"$gt\": 3}})\n",
    "original_df = pd.DataFrame(list(result))\n",
    "original_df.head(10)"
   ]
  },
  {
   "cell_type": "markdown",
   "id": "8acc2111-caeb-4658-8be5-1f262bfe1955",
   "metadata": {},
   "source": [
    "## Random Sampling 5000 Reviews And Saving It In Train Collection"
   ]
  },
  {
   "cell_type": "code",
   "execution_count": null,
   "id": "60ffb212-7479-402b-98cf-e8708dd229ac",
   "metadata": {
    "tags": []
   },
   "outputs": [],
   "source": [
    "train_df = original_df[\"text\"].sample(n = 5000).to_frame()\n",
    "train_df[\"label\"] = \"helpful\"\n",
    "train_dict = train_df.to_dict(orient=\"records\")"
   ]
  },
  {
   "cell_type": "code",
   "execution_count": null,
   "id": "fb0f0e81-0f2b-4090-b132-2a66f0885fa7",
   "metadata": {
    "tags": []
   },
   "outputs": [],
   "source": [
    "for data in train_dict:\n",
    "    train_collection.insert_one(data)"
   ]
  },
  {
   "cell_type": "markdown",
   "id": "1f55b9f7-6e50-43bc-b958-e50cc83e3d2e",
   "metadata": {},
   "source": [
    "## Finding Reviews With No Useful Votes And Putting It In A DataFrame."
   ]
  },
  {
   "cell_type": "code",
   "execution_count": null,
   "id": "8c901410-5e8e-4389-a1a7-787c440c2f4e",
   "metadata": {
    "tags": []
   },
   "outputs": [],
   "source": [
    "result = org_collection.find({\"useful\": {\"$in\": [0, None]}})\n",
    "original_df = pd.DataFrame(list(result))\n",
    "original_df.head(10)"
   ]
  },
  {
   "cell_type": "code",
   "execution_count": null,
   "id": "eaddb931-85a5-4a2d-b3b8-082352fb479f",
   "metadata": {
    "tags": []
   },
   "outputs": [],
   "source": [
    "train_df = original_df[\"text\"].sample(n = 5000).to_frame()\n",
    "train_df[\"label\"] = \"unhelpful\"\n",
    "train_dict = train_df.to_dict(orient=\"records\")"
   ]
  },
  {
   "cell_type": "markdown",
   "id": "7ed494b3-2edd-4ef7-92f7-f257a4c3259c",
   "metadata": {},
   "source": [
    "## Random Sampling 5000 Reviews And Saving It In Train Collection"
   ]
  },
  {
   "cell_type": "code",
   "execution_count": null,
   "id": "e2f5eb5c-c983-4cfb-b4f4-567ee0439b80",
   "metadata": {
    "tags": []
   },
   "outputs": [],
   "source": [
    "for data in train_dict:\n",
    "    train_collection.insert_one(data)"
   ]
  }
 ],
 "metadata": {
  "kernelspec": {
   "display_name": "Python 3 (ipykernel)",
   "language": "python",
   "name": "python3"
  },
  "language_info": {
   "codemirror_mode": {
    "name": "ipython",
    "version": 3
   },
   "file_extension": ".py",
   "mimetype": "text/x-python",
   "name": "python",
   "nbconvert_exporter": "python",
   "pygments_lexer": "ipython3",
   "version": "3.11.5"
  }
 },
 "nbformat": 4,
 "nbformat_minor": 5
}
